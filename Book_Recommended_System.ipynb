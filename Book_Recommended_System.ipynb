{
  "nbformat": 4,
  "nbformat_minor": 0,
  "metadata": {
    "colab": {
      "name": "Book Recommended System.ipynb",
      "provenance": [],
      "authorship_tag": "ABX9TyP4FLkayIWhjyGzJQKAvuj9",
      "include_colab_link": true
    },
    "kernelspec": {
      "name": "python3",
      "display_name": "Python 3"
    },
    "language_info": {
      "name": "python"
    }
  },
  "cells": [
    {
      "cell_type": "markdown",
      "metadata": {
        "id": "view-in-github",
        "colab_type": "text"
      },
      "source": [
        "<a href=\"https://colab.research.google.com/github/irshad9873/book-recommended-system/blob/main/Book_Recommended_System.ipynb\" target=\"_parent\"><img src=\"https://colab.research.google.com/assets/colab-badge.svg\" alt=\"Open In Colab\"/></a>"
      ]
    },
    {
      "cell_type": "markdown",
      "source": [
        "A recommender system, or a recommendation system, is a subclass of information filtering system that seeks to predict the \"rating\" or \"preference\" a user would give to an item. They are primarily used in commercial applications."
      ],
      "metadata": {
        "id": "cIxU8dut7po5"
      }
    },
    {
      "cell_type": "markdown",
      "source": [
        "**Mainly three types of recommendation systems in machine learning based on filtering are used to suggest product and services to the consumers**"
      ],
      "metadata": {
        "id": "PGK1Fgke7tf4"
      }
    },
    {
      "cell_type": "markdown",
      "source": [
        "1.Content Filtering\n",
        "\n",
        "2.Collaborative Filtering\n",
        "\n",
        "3.Hybrid Filtering"
      ],
      "metadata": {
        "id": "aF1m-vwt7yzf"
      }
    },
    {
      "cell_type": "markdown",
      "source": [
        "**1. Content Filtering:**\n",
        "\n",
        "In this algorithm, we try finding items look alike. Once we have item look like matrix,we can easily recommend alike items to a customer, who has purchased any item from the store."
      ],
      "metadata": {
        "id": "OPkFE2Pe7-Rg"
      }
    },
    {
      "cell_type": "markdown",
      "source": [
        "**2. Collaborative Filtering:**\n",
        "\n",
        "Here, we try to search for look alike customers and offer products based on what his/her lookalike has chosen.This algorithm is very effective but takes a lot of time and resources."
      ],
      "metadata": {
        "id": "LqVvF1qe8Myc"
      }
    },
    {
      "cell_type": "markdown",
      "source": [
        "**3. Hybrid Filtering (Content Filtering + Collaborative Filtering):**\n",
        "\n",
        "Both Content Filtering & Collaborative Filtering is used for the purpose. you-tube uses this algorithm for their strong recommendation system."
      ],
      "metadata": {
        "id": "54UCwwIF8R1q"
      }
    },
    {
      "cell_type": "code",
      "execution_count": null,
      "metadata": {
        "id": "3H0VAOD0690p"
      },
      "outputs": [],
      "source": [
        "import pandas as pd\n",
        "import numpy as np\n",
        "import seaborn as sns\n",
        "import matplotlib.pyplot as plt"
      ]
    },
    {
      "cell_type": "code",
      "source": [
        ""
      ],
      "metadata": {
        "id": "Qfe1wYay9P2W"
      },
      "execution_count": null,
      "outputs": []
    }
  ]
}